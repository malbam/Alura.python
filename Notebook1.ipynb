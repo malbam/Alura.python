{
  "nbformat": 4,
  "nbformat_minor": 0,
  "metadata": {
    "colab": {
      "provenance": [],
      "authorship_tag": "ABX9TyOITo4MXWuJsY1eVoxE7DZc",
      "include_colab_link": true
    },
    "kernelspec": {
      "name": "python3",
      "display_name": "Python 3"
    },
    "language_info": {
      "name": "python"
    }
  },
  "cells": [
    {
      "cell_type": "markdown",
      "metadata": {
        "id": "view-in-github",
        "colab_type": "text"
      },
      "source": [
        "<a href=\"https://colab.research.google.com/github/malbam/Alura.python/blob/main/Notebook1.ipynb\" target=\"_parent\"><img src=\"https://colab.research.google.com/assets/colab-badge.svg\" alt=\"Open In Colab\"/></a>"
      ]
    },
    {
      "cell_type": "code",
      "execution_count": 2,
      "metadata": {
        "id": "TUnro1Ob0veY",
        "outputId": "26c6d98e-1fe7-4fdb-80e7-56b7fee6399e",
        "colab": {
          "base_uri": "https://localhost:8080/"
        }
      },
      "outputs": [
        {
          "output_type": "stream",
          "name": "stdout",
          "text": [
            "Hola, este es mi primer notebook en GitHub!\n"
          ]
        }
      ],
      "source": [
        "print(\"Hola, este es mi primer notebook en GitHub!\")\n"
      ]
    },
    {
      "cell_type": "code",
      "source": [
        "print(\"Escuela de Datos de Alura\")"
      ],
      "metadata": {
        "id": "XzTzsXS40-n-",
        "outputId": "eb99d083-1361-44c4-b6dc-2c729a9e96ff",
        "colab": {
          "base_uri": "https://localhost:8080/"
        }
      },
      "execution_count": 4,
      "outputs": [
        {
          "output_type": "stream",
          "name": "stdout",
          "text": [
            "Escuela de Datos de Alura\n"
          ]
        }
      ]
    },
    {
      "cell_type": "code",
      "source": [
        "print(\"Nombre: Marcelo\")\n",
        "print(\"Apellido: Baeza\")\n"
      ],
      "metadata": {
        "id": "tOGL3wJp9dFD",
        "outputId": "44bd873d-91bc-4a8d-bd92-316a16ca447a",
        "colab": {
          "base_uri": "https://localhost:8080/"
        }
      },
      "execution_count": 6,
      "outputs": [
        {
          "output_type": "stream",
          "name": "stdout",
          "text": [
            "Nombre: Marcelo\n",
            "Apellido: Baeza\n"
          ]
        }
      ]
    },
    {
      "cell_type": "code",
      "source": [
        "nombre = input(\"Escribe tu primer nombre: \")\n",
        "for letra in nombre.upper():\n",
        "    print(letra)"
      ],
      "metadata": {
        "id": "9v2yHR9o9s3D",
        "outputId": "1a9f5330-e39b-4885-c5b1-3c6d23cb07f3",
        "colab": {
          "base_uri": "https://localhost:8080/"
        }
      },
      "execution_count": 10,
      "outputs": [
        {
          "output_type": "stream",
          "name": "stdout",
          "text": [
            "Escribe tu primer nombre: marcelo\n",
            "M\n",
            "A\n",
            "R\n",
            "C\n",
            "E\n",
            "L\n",
            "O\n"
          ]
        }
      ]
    },
    {
      "cell_type": "code",
      "source": [
        "print(3, 'febrero', 1973)"
      ],
      "metadata": {
        "id": "jlnZrsFp-wd7",
        "outputId": "833130cf-321a-433b-c0a2-de46b19506b9",
        "colab": {
          "base_uri": "https://localhost:8080/"
        }
      },
      "execution_count": 12,
      "outputs": [
        {
          "output_type": "stream",
          "name": "stdout",
          "text": [
            "3 febrero 1973\n"
          ]
        }
      ]
    },
    {
      "cell_type": "code",
      "source": [
        "print('Año actual: ', 2025)\n"
      ],
      "metadata": {
        "id": "OecvBj-9_hsB",
        "outputId": "73a31017-ddc4-401d-c621-80929bd6b3aa",
        "colab": {
          "base_uri": "https://localhost:8080/"
        }
      },
      "execution_count": 14,
      "outputs": [
        {
          "output_type": "stream",
          "name": "stdout",
          "text": [
            "Año actual:  2025\n"
          ]
        }
      ]
    }
  ]
}